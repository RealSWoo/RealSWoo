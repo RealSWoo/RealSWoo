{
 "cells": [
  {
   "cell_type": "code",
   "execution_count": 6,
   "id": "63a82bee-34ec-4c99-b838-abd056a50e6d",
   "metadata": {},
   "outputs": [
    {
     "name": "stdout",
     "output_type": "stream",
     "text": [
      "Epoch 1/5\n",
      "\u001b[1m1875/1875\u001b[0m \u001b[32m━━━━━━━━━━━━━━━━━━━━\u001b[0m\u001b[37m\u001b[0m \u001b[1m3s\u001b[0m 1ms/step - accuracy: 0.8613 - loss: 0.4780\n",
      "Epoch 2/5\n",
      "\u001b[1m1875/1875\u001b[0m \u001b[32m━━━━━━━━━━━━━━━━━━━━\u001b[0m\u001b[37m\u001b[0m \u001b[1m3s\u001b[0m 1ms/step - accuracy: 0.9542 - loss: 0.1534\n",
      "Epoch 3/5\n",
      "\u001b[1m1875/1875\u001b[0m \u001b[32m━━━━━━━━━━━━━━━━━━━━\u001b[0m\u001b[37m\u001b[0m \u001b[1m3s\u001b[0m 1ms/step - accuracy: 0.9679 - loss: 0.1070\n",
      "Epoch 4/5\n",
      "\u001b[1m1875/1875\u001b[0m \u001b[32m━━━━━━━━━━━━━━━━━━━━\u001b[0m\u001b[37m\u001b[0m \u001b[1m3s\u001b[0m 1ms/step - accuracy: 0.9735 - loss: 0.0874\n",
      "Epoch 5/5\n",
      "\u001b[1m1875/1875\u001b[0m \u001b[32m━━━━━━━━━━━━━━━━━━━━\u001b[0m\u001b[37m\u001b[0m \u001b[1m3s\u001b[0m 1ms/step - accuracy: 0.9775 - loss: 0.0734\n",
      "\u001b[1m1/1\u001b[0m \u001b[32m━━━━━━━━━━━━━━━━━━━━\u001b[0m\u001b[37m\u001b[0m \u001b[1m0s\u001b[0m 29ms/step\n",
      "Image: pngwing.com.png\n",
      "Predicted Probabilities for each class (0-9):\n",
      "Class 0: 0.00%\n",
      "Class 1: 0.00%\n",
      "Class 2: 96.39%\n",
      "Class 3: 0.00%\n",
      "Class 4: 0.00%\n",
      "Class 5: 3.57%\n",
      "Class 6: 0.00%\n",
      "Class 7: 0.04%\n",
      "Class 8: 0.00%\n",
      "Class 9: 0.00%\n",
      "\n",
      "Predicted Label: 2\n",
      "========================================\n"
     ]
    },
    {
     "data": {
      "image/png": "[encoded data removed]",
      "text/plain": [
       "<Figure size 640x480 with 1 Axes>"
      ]
     },
     "metadata": {},
     "output_type": "display_data"
    }
   ],
   "source": [
    "import os\n",
    "import tensorflow as tf\n",
    "import numpy as np\n",
    "from PIL import Image\n",
    "import matplotlib.pyplot as plt\n",
    "\n",
    "os.environ[\"CUDA_VISIBLE_DEVICES\"] = \"\"\n",
    "\n",
    "# 1. 이미지 파일이 저장된 폴더 경로\n",
    "folder_path = '/home/seokwoo/Desktop/RealSWoo/mnist/'  # 현재 작업 디렉토리\n",
    "\n",
    "# 2. 폴더 내의 모든 이미지 파일 목록 가져오기\n",
    "image_files = [f for f in os.listdir(folder_path) if f.endswith('.png')]  # PNG 이미지 파일만 선택\n",
    "\n",
    "# 3. MNIST 모델 정의 (여기서는 간단한 예시 모델 사용)\n",
    "# MNIST 데이터셋 로드 (훈련된 모델을 사용할 경우, 이 부분은 건너뛰어도 됩니다)\n",
    "(x_train, y_train), (x_test, y_test) = tf.keras.datasets.mnist.load_data()\n",
    "x_train, x_test = x_train / 255.0, x_test / 255.0  # 데이터 정규화\n",
    "\n",
    "model = tf.keras.Sequential([\n",
    "    tf.keras.layers.Flatten(input_shape=(28, 28)),\n",
    "    tf.keras.layers.Dense(128, activation='relu'),\n",
    "    tf.keras.layers.Dropout(0.2),\n",
    "    tf.keras.layers.Dense(10, activation='softmax')\n",
    "])\n",
    "\n",
    "model.compile(optimizer='adam',\n",
    "              loss='sparse_categorical_crossentropy',\n",
    "              metrics=['accuracy'])\n",
    "\n",
    "# MNIST 데이터로 모델 훈련\n",
    "model.fit(x_train, y_train, epochs=5)\n",
    "\n",
    "# 4. 각 이미지에 대해 예측 수행\n",
    "for image_file in image_files:\n",
    "    # 1. 이미지 파일 불러오기\n",
    "    img = Image.open(os.path.join(folder_path, image_file))  # 이미지 경로 지정\n",
    "    \n",
    "    # 2. 이미지 전처리\n",
    "    img = img.convert('L')  # 그레이스케일로 변환 (흑백)\n",
    "    img = img.resize((28, 28))  # 28x28 크기로 리사이즈 (MNIST 모델 입력 크기)\n",
    "\n",
    "    # 3. 이미지를 numpy 배열로 변환하고 정규화 (픽셀값을 0~1로 정규화)\n",
    "    img_array = np.array(img) / 255.0  # 0~1 범위로 정규화\n",
    "    img_array = np.reshape(img_array, (1, 28, 28))  # 배치 차원 추가 (모델에 맞는 형태로 변환)\n",
    "\n",
    "    # 4. 예측\n",
    "    predictions = model.predict(img_array)\n",
    "    predicted_label = np.argmax(predictions)  # 가장 높은 확률을 가진 클래스 (예: 0~9 사이의 숫자)\n",
    "\n",
    "    # 5. 예측 확률 출력\n",
    "    print(f\"Image: {image_file}\")\n",
    "    print(\"Predicted Probabilities for each class (0-9):\")\n",
    "    for i, prob in enumerate(predictions[0]):\n",
    "        print(f\"Class {i}: {prob*100:.2f}%\")\n",
    "    \n",
    "    # 6. 예측 결과 출력\n",
    "    print(f\"\\nPredicted Label: {predicted_label}\")\n",
    "    print(\"=\"*40)  # 구분선\n",
    "\n",
    "    # 7. 이미지 시각화\n",
    "    plt.imshow(img, cmap='gray')\n",
    "    plt.title(f\"Predicted Label: {predicted_label}\")\n",
    "    plt.show()"
   ]
  },
  {
   "cell_type": "code",
   "execution_count": null,
   "id": "2b57718d-199d-4efe-8293-e27934b59f96",
   "metadata": {},
   "outputs": [],
   "source": []
  }
 ],
 "metadata": {
  "kernelspec": {
   "display_name": "Python 3 (ipykernel)",
   "language": "python",
   "name": "python3"
  },
  "language_info": {
   "codemirror_mode": {
    "name": "ipython",
    "version": 3
   },
   "file_extension": ".py",
   "mimetype": "text/x-python",
   "name": "python",
   "nbconvert_exporter": "python",
   "pygments_lexer": "ipython3",
   "version": "3.10.16"
  }
 },
 "nbformat": 4,
 "nbformat_minor": 5
}
